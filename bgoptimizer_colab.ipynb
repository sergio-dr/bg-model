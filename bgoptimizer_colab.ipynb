{
  "nbformat": 4,
  "nbformat_minor": 0,
  "metadata": {
    "colab": {
      "name": "bgoptimizer_colab.ipynb",
      "provenance": [],
      "collapsed_sections": []
    },
    "kernelspec": {
      "display_name": "Python 3",
      "name": "python3"
    },
    "language_info": {
      "name": "python"
    },
    "accelerator": "GPU"
  },
  "cells": [
    {
      "cell_type": "markdown",
      "source": [
        "# bgoptimizer\n",
        "\n",
        "This notebook may help you to test the [bgoptimizer](https://github.com/sergio-dr/bgoptimizer) tool without setting a python+tensorflow environment in your computer. \n",
        "\n",
        "Please review the license and citing information provided in the [project page](https://github.com/sergio-dr/bgoptimizer). "
      ],
      "metadata": {
        "id": "lQhTHxaHsO8U"
      }
    },
    {
      "cell_type": "markdown",
      "metadata": {
        "id": "7JT7cJsVOkF4"
      },
      "source": [
        "## Usage\n",
        "1. Click on `Connect`\n",
        "1. Check: `Runtime -> Change runtime type: GPU`\n",
        "1. Run the notebook : `Runtime -> Run all (Ctrl+F9)`\n",
        "1. Upload your images clicking on \"Choose files\" inside the cell \"Upload images\"\n",
        "1. After processing is done, the output files will download automatically. Your browser may ask for authorization to download multiple files. \n",
        "\n",
        "You may need to set a few options to get optimal results. Please read the [bgoptimizer](https://github.com/sergio-dr/bgoptimizer) page in Github. To add options, go to the first cell under \"Background model generation and subtraction\" and insert them between the quotes as in the example. "
      ]
    },
    {
      "cell_type": "markdown",
      "metadata": {
        "id": "RU9XRzcMjRqb"
      },
      "source": [
        "## Preparing the environment"
      ]
    },
    {
      "cell_type": "code",
      "metadata": {
        "id": "Wzzj8-RBlb1x"
      },
      "source": [
        "!pip install tensorflow_addons lz4"
      ],
      "execution_count": null,
      "outputs": []
    },
    {
      "cell_type": "code",
      "metadata": {
        "id": "Y09CAOqbgmRm"
      },
      "source": [
        "%cd /content\n",
        "!wget -nc https://raw.githubusercontent.com/sergio-dr/xisf/main/src/xisf.py\n",
        "!wget -nc https://github.com/sergio-dr/bg-model/archive/refs/heads/master.zip\n",
        "!unzip -j master.zip \n"
      ],
      "execution_count": null,
      "outputs": []
    },
    {
      "cell_type": "code",
      "metadata": {
        "id": "Onqz-UBlf5hy"
      },
      "source": [
        "!mkdir -p {in,out}"
      ],
      "execution_count": null,
      "outputs": []
    },
    {
      "cell_type": "markdown",
      "metadata": {
        "id": "1DQ0gwvdjUvR"
      },
      "source": [
        "## Upload images\n",
        "* You may upload one or more images, that will be processed separately\n",
        "* Input images should be in linear stage (not stretched) \n",
        "* Only XISF file format is supported\n",
        "* The input images may have RGB channels, but the result may be different if channels are processed separately, as *independent* files"
      ]
    },
    {
      "cell_type": "code",
      "metadata": {
        "id": "wdy-ZGHzZDZ_"
      },
      "source": [
        "from google.colab import files\n",
        "\n",
        "%cd /content/in\n",
        "fnames = files.upload().keys()"
      ],
      "execution_count": null,
      "outputs": []
    },
    {
      "cell_type": "markdown",
      "metadata": {
        "id": "HxihcP1rjkKS"
      },
      "source": [
        "## Background model generation and subtraction"
      ]
    },
    {
      "cell_type": "code",
      "source": [
        "options = \"\" # e.g., \"-dq 0.85 -tM 0.7\""
      ],
      "metadata": {
        "id": "NAaMCyHHtPKW"
      },
      "execution_count": null,
      "outputs": []
    },
    {
      "cell_type": "code",
      "metadata": {
        "id": "Cux7bXOSlREu"
      },
      "source": [
        "for fname in list(fnames):\n",
        "  %run /content/bgoptimizer.py {fname} /content/out {options}\n",
        "  plt.show()"
      ],
      "execution_count": null,
      "outputs": []
    },
    {
      "cell_type": "markdown",
      "metadata": {
        "id": "sSXjc8nvjum5"
      },
      "source": [
        "## Download results\n"
      ]
    },
    {
      "cell_type": "code",
      "metadata": {
        "id": "6103OR5oQnZo"
      },
      "source": [
        "for fname in os.scandir('/content/out'):\n",
        "  files.download(fname)"
      ],
      "execution_count": null,
      "outputs": []
    },
    {
      "cell_type": "markdown",
      "metadata": {
        "id": "p7pFlTZarwHL"
      },
      "source": [
        "\n",
        "\n",
        "---\n",
        "\n"
      ]
    },
    {
      "cell_type": "markdown",
      "metadata": {
        "id": "bS0eXzWRrlzN"
      },
      "source": [
        "### bgoptimizer.py options"
      ]
    },
    {
      "cell_type": "code",
      "metadata": {
        "id": "NZ_pA4qsrqQ8"
      },
      "source": [
        "%run /content/bgoptimizer.py -h"
      ],
      "execution_count": null,
      "outputs": []
    }
  ]
}